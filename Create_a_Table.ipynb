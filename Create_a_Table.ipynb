{
  "nbformat": 4,
  "nbformat_minor": 0,
  "metadata": {
    "colab": {
      "provenance": [],
      "authorship_tag": "ABX9TyNv87HK93s7CQkTN+k/+1J5",
      "include_colab_link": true
    },
    "kernelspec": {
      "name": "python3",
      "display_name": "Python 3"
    },
    "language_info": {
      "name": "python"
    }
  },
  "cells": [
    {
      "cell_type": "markdown",
      "metadata": {
        "id": "view-in-github",
        "colab_type": "text"
      },
      "source": [
        "<a href=\"https://colab.research.google.com/github/AwuorOpiyo/Daily-Challenge-Assignment-One/blob/main/Create_a_Table.ipynb\" target=\"_parent\"><img src=\"https://colab.research.google.com/assets/colab-badge.svg\" alt=\"Open In Colab\"/></a>"
      ]
    },
    {
      "cell_type": "code",
      "execution_count": null,
      "metadata": {
        "id": "zr-AmGLlJy_u"
      },
      "outputs": [],
      "source": []
    },
    {
      "cell_type": "markdown",
      "source": [
        "# Install pmysql"
      ],
      "metadata": {
        "id": "Hi45833lJ0XD"
      }
    },
    {
      "cell_type": "code",
      "source": [
        "!pip install pymysql"
      ],
      "metadata": {
        "colab": {
          "base_uri": "https://localhost:8080/"
        },
        "id": "IyZbJnpFJ4wF",
        "outputId": "6a94397d-ab5b-40b5-cfe8-86e33a262519"
      },
      "execution_count": 1,
      "outputs": [
        {
          "output_type": "stream",
          "name": "stdout",
          "text": [
            "Collecting pymysql\n",
            "  Downloading PyMySQL-1.1.0-py3-none-any.whl (44 kB)\n",
            "\u001b[?25l     \u001b[90m━━━━━━━━━━━━━━━━━━━━━━━━━━━━━━━━━━━━━━━━\u001b[0m \u001b[32m0.0/44.8 kB\u001b[0m \u001b[31m?\u001b[0m eta \u001b[36m-:--:--\u001b[0m\r\u001b[2K     \u001b[90m━━━━━━━━━━━━━━━━━━━━━━━━━━━━━━━━━━━━━━━━\u001b[0m \u001b[32m44.8/44.8 kB\u001b[0m \u001b[31m1.6 MB/s\u001b[0m eta \u001b[36m0:00:00\u001b[0m\n",
            "\u001b[?25hInstalling collected packages: pymysql\n",
            "Successfully installed pymysql-1.1.0\n"
          ]
        }
      ]
    },
    {
      "cell_type": "markdown",
      "source": [
        "# Loading SQL extension"
      ],
      "metadata": {
        "id": "uZuW11HbKCvg"
      }
    },
    {
      "cell_type": "code",
      "source": [
        "%load_ext sql"
      ],
      "metadata": {
        "id": "ne4f3SkYKJsY"
      },
      "execution_count": 2,
      "outputs": []
    },
    {
      "cell_type": "markdown",
      "source": [
        " Loading Data from a Database"
      ],
      "metadata": {
        "id": "I6ChtqWXLeV7"
      }
    },
    {
      "cell_type": "code",
      "source": [
        "%sql sqlite:///chinook.db"
      ],
      "metadata": {
        "id": "j5jJCQ1xKlKI"
      },
      "execution_count": 14,
      "outputs": []
    },
    {
      "cell_type": "markdown",
      "source": [
        " Creating a Table"
      ],
      "metadata": {
        "id": "pv6TdSZ4Rwz2"
      }
    },
    {
      "cell_type": "code",
      "source": [
        "%sql SELECT name FROM sqlite_master WHERE type='table';\n"
      ],
      "metadata": {
        "colab": {
          "base_uri": "https://localhost:8080/",
          "height": 370
        },
        "id": "EHqglPE0RnRz",
        "outputId": "dd11b7b6-e6e7-4737-859e-dda60a6fc866"
      },
      "execution_count": 15,
      "outputs": [
        {
          "output_type": "stream",
          "name": "stdout",
          "text": [
            "   sqlite:///archive.zip\n",
            " * sqlite:///chinook.db\n",
            "Done.\n"
          ]
        },
        {
          "output_type": "execute_result",
          "data": {
            "text/plain": [
              "[('albums',),\n",
              " ('sqlite_sequence',),\n",
              " ('artists',),\n",
              " ('customers',),\n",
              " ('employees',),\n",
              " ('genres',),\n",
              " ('invoices',),\n",
              " ('invoice_items',),\n",
              " ('media_types',),\n",
              " ('playlists',),\n",
              " ('playlist_track',),\n",
              " ('tracks',),\n",
              " ('sqlite_stat1',)]"
            ],
            "text/html": [
              "<table>\n",
              "    <thead>\n",
              "        <tr>\n",
              "            <th>name</th>\n",
              "        </tr>\n",
              "    </thead>\n",
              "    <tbody>\n",
              "        <tr>\n",
              "            <td>albums</td>\n",
              "        </tr>\n",
              "        <tr>\n",
              "            <td>sqlite_sequence</td>\n",
              "        </tr>\n",
              "        <tr>\n",
              "            <td>artists</td>\n",
              "        </tr>\n",
              "        <tr>\n",
              "            <td>customers</td>\n",
              "        </tr>\n",
              "        <tr>\n",
              "            <td>employees</td>\n",
              "        </tr>\n",
              "        <tr>\n",
              "            <td>genres</td>\n",
              "        </tr>\n",
              "        <tr>\n",
              "            <td>invoices</td>\n",
              "        </tr>\n",
              "        <tr>\n",
              "            <td>invoice_items</td>\n",
              "        </tr>\n",
              "        <tr>\n",
              "            <td>media_types</td>\n",
              "        </tr>\n",
              "        <tr>\n",
              "            <td>playlists</td>\n",
              "        </tr>\n",
              "        <tr>\n",
              "            <td>playlist_track</td>\n",
              "        </tr>\n",
              "        <tr>\n",
              "            <td>tracks</td>\n",
              "        </tr>\n",
              "        <tr>\n",
              "            <td>sqlite_stat1</td>\n",
              "        </tr>\n",
              "    </tbody>\n",
              "</table>"
            ]
          },
          "metadata": {},
          "execution_count": 15
        }
      ]
    }
  ]
}